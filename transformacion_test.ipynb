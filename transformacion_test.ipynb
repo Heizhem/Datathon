{
 "cells": [
  {
   "cell_type": "code",
   "execution_count": 34,
   "metadata": {},
   "outputs": [],
   "source": [
    "import pandas as pd\n",
    "import numpy as np\n",
    "import seaborn as sns\n",
    "import matplotlib.pyplot as plt\n",
    "\n",
    "from sklearn.preprocessing import OrdinalEncoder\n",
    "from sklearn.preprocessing import OneHotEncoder\n"
   ]
  },
  {
   "cell_type": "code",
   "execution_count": 64,
   "metadata": {},
   "outputs": [],
   "source": [
    "df = pd.read_csv('hospitalizaciones_test.csv')"
   ]
  },
  {
   "cell_type": "code",
   "execution_count": 65,
   "metadata": {},
   "outputs": [
    {
     "data": {
      "text/plain": [
       "(90000, 14)"
      ]
     },
     "execution_count": 65,
     "metadata": {},
     "output_type": "execute_result"
    }
   ],
   "source": [
    "df.shape"
   ]
  },
  {
   "cell_type": "code",
   "execution_count": 66,
   "metadata": {},
   "outputs": [],
   "source": [
    "cols =['Department_TB & Chest disease',\n",
    "       'Department_anesthesia', 'Department_gynecology',\n",
    "       'Department_radiotherapy', 'Department_surgery','Ward_Facility_Code_A',\n",
    "       'Ward_Facility_Code_B', 'Ward_Facility_Code_C', 'Ward_Facility_Code_D',\n",
    "       'Ward_Facility_Code_E', 'Ward_Facility_Code_F','doctor_name_Dr Isaac',\n",
    "       'doctor_name_Dr John', 'doctor_name_Dr Mark', 'doctor_name_Dr Nathan',\n",
    "       'doctor_name_Dr Olivia', 'doctor_name_Dr Sam', 'doctor_name_Dr Sarah',\n",
    "       'doctor_name_Dr Simon', 'doctor_name_Dr Sophia'] \n"
   ]
  },
  {
   "cell_type": "code",
   "execution_count": 67,
   "metadata": {},
   "outputs": [],
   "source": [
    "def transf_test(cols):\n",
    "    X=df.copy()\n",
    "    #--- CODIFICO-----#\n",
    "\n",
    "    X.drop(['patientid'],axis=1,inplace=True)\n",
    "    \n",
    "    #columnas nominales\n",
    "    ohe_col=['Department', 'Ward_Facility_Code','doctor_name', 'Age', 'Type of Admission', 'health_conditions','gender']\n",
    "    #columna ordinal\n",
    "    ord=['Severity of Illness']\n",
    "    #columnas binarias\n",
    "    binar = ['Insurance']\n",
    "\n",
    "\n",
    "    #ordinal\n",
    "\n",
    "    gravedad_enfer = ['Extreme','Moderate','Minor']\n",
    "    oe = OrdinalEncoder(categories=[gravedad_enfer],dtype='uint8')\n",
    "    X['Severity of Illness'] = oe.fit_transform(X[['Severity of Illness']])\n",
    "\n",
    "\n",
    "    #laberlbinarizer\n",
    "\n",
    "    X['Insurance'] = X['Insurance'].map({'Yes':1,'No':0})\n",
    "\n",
    "\n",
    "    # OneHotEncoder\n",
    "\n",
    "    ohe = OneHotEncoder(dtype='int8')\n",
    "    # ohe.fit_transform(df_copy[['Department']]).toarray()\n",
    "    for col in ohe_col:\n",
    "        df_dep = pd.DataFrame(ohe.fit_transform(X[[col]]).toarray(),columns=[col+'_'+str(ohe.categories_[0][i])for i in range(len(ohe.categories_[0]))])\n",
    "        X = pd.concat([X,df_dep],axis=1)\n",
    "        X.drop(col,axis=1,inplace=True)\n",
    "\n",
    "    X.drop(cols,axis=1,inplace=True)\n",
    "\n",
    "    return X"
   ]
  },
  {
   "cell_type": "code",
   "execution_count": 68,
   "metadata": {},
   "outputs": [],
   "source": [
    "df_para_pred = transf_test(cols)"
   ]
  },
  {
   "cell_type": "code",
   "execution_count": 69,
   "metadata": {},
   "outputs": [
    {
     "data": {
      "text/plain": [
       "(90000, 28)"
      ]
     },
     "execution_count": 69,
     "metadata": {},
     "output_type": "execute_result"
    }
   ],
   "source": [
    "df_para_pred.shape"
   ]
  },
  {
   "cell_type": "code",
   "execution_count": 70,
   "metadata": {},
   "outputs": [],
   "source": [
    "df_para_pred.to_csv('df_para_pred.csv',index=False)"
   ]
  }
 ],
 "metadata": {
  "kernelspec": {
   "display_name": "Python 3",
   "language": "python",
   "name": "python3"
  },
  "language_info": {
   "codemirror_mode": {
    "name": "ipython",
    "version": 3
   },
   "file_extension": ".py",
   "mimetype": "text/x-python",
   "name": "python",
   "nbconvert_exporter": "python",
   "pygments_lexer": "ipython3",
   "version": "3.10.5"
  },
  "orig_nbformat": 4,
  "vscode": {
   "interpreter": {
    "hash": "bc7696eeafa34b5eae99a8ff85011d0682d74fe0e2a2436bba17f9270709e3f6"
   }
  }
 },
 "nbformat": 4,
 "nbformat_minor": 2
}
